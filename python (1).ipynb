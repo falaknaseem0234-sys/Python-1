{
  "nbformat": 4,
  "nbformat_minor": 0,
  "metadata": {
    "colab": {
      "provenance": []
    },
    "kernelspec": {
      "name": "python3",
      "display_name": "Python 3"
    },
    "language_info": {
      "name": "python"
    }
  },
  "cells": [
    {
      "cell_type": "markdown",
      "source": [
        "Python"
      ],
      "metadata": {
        "id": "kNqTqkuePZR0"
      }
    },
    {
      "cell_type": "markdown",
      "source": [
        "1.What is python,and why it is popular?\n",
        "   - Python is a high level,interpreted programming language known for its simple syntax,redability,versatility.It is popular because it is support multiple prgramming paradigms and has a large standard library.\n",
        "\n",
        "2.What is an interpreter in Python?\n",
        "  - An interpreter is a program that executes python code line by line, translating it into machine code at runtime.\n",
        "\n",
        "3.What are pre-defined keywords in python?\n",
        "  - Pre-defined keywords are reserved words in Python that have special meanings and cannot be used as identifiers.(e.g.. if,while).\n",
        "\n",
        "4.Can keywords be used as variables names?\n",
        "   - No keywords cannot be used as variable names because they are reserved for specific Python syntax and functionality.\n",
        "\n",
        "5.What is mutability in python?\n",
        "   - Mutability refers to whether an objects cotent can be changed after creation.Mutable objects can be modified.\n",
        "\n",
        "6.Why are lists mutable,but tuples are immutable?\n",
        "   - Lists are  designed to allow modification of their elements, while tuples are fixed in size and content to ensure data integrity.\n",
        "\n",
        "7.What is the difference between \"==\" and \"is\" operators in python?\n",
        "   - \"==\" checks if the values of two objects are equal, whereas \"is\" checks if they refer too same memory location.\n",
        "\n",
        "8.What are logical operators in Python?\n",
        "   - Logical operators (and,or.not) are used to combine conditional statements and control logical flow.\n",
        "\n",
        "9.What is type casting in python?\n",
        "   - Type casting is the process of convertinng one data type into another,such as from a string to an integer.\n",
        "\n",
        "10.What is the differnce between implicit and Explicit type casting?\n",
        "   - Implicit casting is done automatically by Python without data loss risk, while expilicit casting is manually done using functions like int() or float ().\n",
        "\n",
        "11.What is the purpose of conditional statements in Python?\n",
        "   - Conditional statements control program flow by executing specific code blocks only when certain conditions are met.\n",
        "\n",
        "12.How does the elif statement work?\n",
        "   - The elif statement checks an additional condition if the previous if  condition is false,allowing multiple condition checks in sequence.\n",
        "\n",
        "13.What is the difference between for and while loops?\n",
        "   - A for loops iterates over a sequence with a fixed numbers of iterations, while  a while loop runs as long as a condition remains true.\n",
        "\n",
        "14.Describe a scenario where a while loop is more suitable than a for loop?\n",
        "   - A while loop is better when the number of iterations is not known beforehand,such as reading user input until they enter \"exit\".\n",
        "\n",
        "\n",
        "\n",
        "\n",
        "\n",
        "    \n",
        "  \n"
      ],
      "metadata": {
        "id": "FBgTRebxPf4w"
      }
    },
    {
      "cell_type": "code",
      "source": [
        "print (\"Hello,World!\")\n"
      ],
      "metadata": {
        "colab": {
          "base_uri": "https://localhost:8080/"
        },
        "id": "QkUgnA3CjdRT",
        "outputId": "c1674489-18ef-4d02-e81b-ec54f9707461"
      },
      "execution_count": 1,
      "outputs": [
        {
          "output_type": "stream",
          "name": "stdout",
          "text": [
            "Hello,World!\n"
          ]
        }
      ]
    },
    {
      "cell_type": "markdown",
      "source": [],
      "metadata": {
        "id": "LFg1zDaujeDE"
      }
    },
    {
      "cell_type": "code",
      "source": [
        "name = \"Falak\"\n",
        "age = 20\n",
        "print (name,age)"
      ],
      "metadata": {
        "colab": {
          "base_uri": "https://localhost:8080/"
        },
        "id": "d0A_zPzPjesK",
        "outputId": "c7030751-7b1f-447d-bd4c-5616041662ec"
      },
      "execution_count": 2,
      "outputs": [
        {
          "output_type": "stream",
          "name": "stdout",
          "text": [
            "Falak 20\n"
          ]
        }
      ]
    },
    {
      "cell_type": "code",
      "source": [
        "import keyword\n",
        "print (keyword.kwlist)"
      ],
      "metadata": {
        "colab": {
          "base_uri": "https://localhost:8080/"
        },
        "id": "lJvTpqMTjLVc",
        "outputId": "2265fd68-d945-4909-c043-b343a506aa0b"
      },
      "execution_count": 3,
      "outputs": [
        {
          "output_type": "stream",
          "name": "stdout",
          "text": [
            "['False', 'None', 'True', 'and', 'as', 'assert', 'async', 'await', 'break', 'class', 'continue', 'def', 'del', 'elif', 'else', 'except', 'finally', 'for', 'from', 'global', 'if', 'import', 'in', 'is', 'lambda', 'nonlocal', 'not', 'or', 'pass', 'raise', 'return', 'try', 'while', 'with', 'yield']\n"
          ]
        }
      ]
    },
    {
      "cell_type": "markdown",
      "source": [],
      "metadata": {
        "id": "gaLTIaqzjME4"
      }
    },
    {
      "cell_type": "markdown",
      "source": [],
      "metadata": {
        "id": "V3kr59CFPr1D"
      }
    },
    {
      "cell_type": "code",
      "source": [
        "import keyword\n",
        "\n",
        "word = input(\"Enter a keyword:\")\n",
        "if keyword.iskeyword(word):\n",
        "  print(f\"{word} is a Python keyword.\")\n",
        "else:\n",
        "    print(f\"{word} is not a Python keyword.\")"
      ],
      "metadata": {
        "colab": {
          "base_uri": "https://localhost:8080/"
        },
        "id": "id0CEN9jpRSc",
        "outputId": "11086a44-8fad-483d-8368-966aac647e70"
      },
      "execution_count": 10,
      "outputs": [
        {
          "output_type": "stream",
          "name": "stdout",
          "text": [
            "Enter a keyword:for\n",
            "for is a Python keyword.\n"
          ]
        }
      ]
    },
    {
      "cell_type": "code",
      "execution_count": 14,
      "metadata": {
        "colab": {
          "base_uri": "https://localhost:8080/"
        },
        "id": "obtZy3RYPAc3",
        "outputId": "c63c66e0-1853-463d-89ed-9784c376706a"
      },
      "outputs": [
        {
          "output_type": "stream",
          "name": "stdout",
          "text": [
            "Modified list: [10, 2, 3]\n",
            "Modified tuple: (1, 2, 3)\n"
          ]
        }
      ],
      "source": [
        "my_list =[1,2,3]\n",
        "my_list[0] = 10\n",
        "print (\"Modified list:\",my_list)\n",
        "\n",
        "my_tuple = (1,2,3)\n",
        "my_tuple[0] = 10\n",
        "print (\"Modified tuple:\",my_tuple)"
      ]
    },
    {
      "cell_type": "code",
      "source": [
        "def modify_list(lst):\n",
        "  lst.append(100)\n",
        "def change_number(num):\n",
        "  num += 10\n",
        "numbers = [1,2,3]\n",
        "value = 5\n",
        "print(\"Before modify_list:\",numbers)\n",
        "modify_list(numbers)\n",
        "print(\"After modify_list:\",numbers)\n",
        "print(\"Before change_number:\",value)\n",
        "change_number(value)\n",
        "print(\"After change_number:\",value)\n"
      ],
      "metadata": {
        "colab": {
          "base_uri": "https://localhost:8080/"
        },
        "id": "ogx1xoFfrVMJ",
        "outputId": "30507278-8d11-4140-958e-a4134520f89d"
      },
      "execution_count": 17,
      "outputs": [
        {
          "output_type": "stream",
          "name": "stdout",
          "text": [
            "Before modify_list: [1, 2, 3]\n",
            "After modify_list: [1, 2, 3, 100]\n",
            "Before change_number: 5\n",
            "After change_number: 5\n"
          ]
        }
      ]
    },
    {
      "cell_type": "code",
      "source": [
        "num1 = float(input(\"Enter the first number:\"))\n",
        "num2 = float(input(\"Enter the second number:\"))\n",
        "addition = num1 + num2\n",
        "subtraction = num1 - num2\n",
        "multiplication = num1 * num2\n",
        "division = num1/num2\n",
        "floor_division = num1 // num2\n",
        "modulus = num1 % num2\n",
        "exponentiation = num1 ** num2\n",
        "print(f\"Addition:{addition}\")\n",
        "print (f\"Subtraction:{subtraction}\")\n",
        "print (f\"Multiplication:{multiplication}\")\n",
        "print (f\"Division:{division}\")\n",
        "print (f\"Floor Division:{floor_division}\")\n",
        "print (f\"Modulus:{modulus}\")\n",
        "print (f\"Exponentiation:{exponentiation}\")"
      ],
      "metadata": {
        "colab": {
          "base_uri": "https://localhost:8080/"
        },
        "id": "hZSOZ4Km16Ai",
        "outputId": "63a4d269-2d69-4800-fe4e-7ff409bfa293"
      },
      "execution_count": 22,
      "outputs": [
        {
          "output_type": "stream",
          "name": "stdout",
          "text": [
            "Enter the first number:56\n",
            "Enter the second number:89\n",
            "Addition:145.0\n",
            "Subtraction:-33.0\n",
            "Multiplication:4984.0\n",
            "Division:0.6292134831460674\n",
            "Floor Division:0.0\n",
            "Modulus:56.0\n",
            "Exponentiation:3.879130619352538e+155\n"
          ]
        }
      ]
    },
    {
      "cell_type": "code",
      "source": [
        "x = 10\n",
        "y = 5\n",
        "print(x > 0 and y > 0)\n",
        "print(x > 0 or y < 0)\n",
        "print(not(x > y))"
      ],
      "metadata": {
        "colab": {
          "base_uri": "https://localhost:8080/"
        },
        "id": "H6WnR48R66On",
        "outputId": "006170b4-cdec-4eae-ca36-f17cd873e75b"
      },
      "execution_count": 23,
      "outputs": [
        {
          "output_type": "stream",
          "name": "stdout",
          "text": [
            "True\n",
            "True\n",
            "False\n"
          ]
        }
      ]
    },
    {
      "cell_type": "code",
      "source": [
        "data = input(\"Enter a value: \")\n",
        "print(\"As integer:\",int(data))\n",
        "print(\"As float:\",float(data))\n",
        "print(\"As boolean:\",bool(data))"
      ],
      "metadata": {
        "colab": {
          "base_uri": "https://localhost:8080/"
        },
        "id": "gZCM2i-v8RG1",
        "outputId": "45932f21-6c74-476d-84d1-3862df3454c4"
      },
      "execution_count": 26,
      "outputs": [
        {
          "output_type": "stream",
          "name": "stdout",
          "text": [
            "Enter a value: 34\n",
            "As integer: 34\n",
            "As float: 34.0\n",
            "As boolean: True\n"
          ]
        }
      ]
    },
    {
      "cell_type": "code",
      "source": [
        "str_list = [\"1\",\"2\",\"3\"]\n",
        "int_list =[]\n",
        "for item in str_list:\n",
        "  int_list.append(int(item))\n",
        "print (\"Original list (strings):\",str_list)\n",
        "print (\"Converted list (integers):\",int_list)"
      ],
      "metadata": {
        "colab": {
          "base_uri": "https://localhost:8080/"
        },
        "id": "ewWcjg_F9FNK",
        "outputId": "f931edfc-bb78-4f60-8fbc-b2b936a2425e"
      },
      "execution_count": 30,
      "outputs": [
        {
          "output_type": "stream",
          "name": "stdout",
          "text": [
            "Original list (strings): ['1', '2', '3']\n",
            "Converted list (integers): [1, 2, 3]\n"
          ]
        }
      ]
    },
    {
      "cell_type": "code",
      "source": [
        "num = float(input(\"Enter a number:\"))\n",
        "if num > 0:\n",
        "  print(\"Positive number\")\n",
        "elif num < 0:\n",
        "  print(\"Negative number\")\n",
        "else:\n",
        "  print(\"Zero\")"
      ],
      "metadata": {
        "colab": {
          "base_uri": "https://localhost:8080/"
        },
        "id": "ch-cJt2i_jrJ",
        "outputId": "507e4d29-c2ed-4c09-9800-fe8e4511ecb7"
      },
      "execution_count": 31,
      "outputs": [
        {
          "output_type": "stream",
          "name": "stdout",
          "text": [
            "Enter a number:12\n",
            "Positive number\n"
          ]
        }
      ]
    },
    {
      "cell_type": "code",
      "source": [
        "for i in range(1,11):\n",
        "  print(i)"
      ],
      "metadata": {
        "colab": {
          "base_uri": "https://localhost:8080/"
        },
        "id": "o7c46ueP_7G4",
        "outputId": "343e5bef-a57e-4f25-b7fb-ee87fae5a1a5"
      },
      "execution_count": 32,
      "outputs": [
        {
          "output_type": "stream",
          "name": "stdout",
          "text": [
            "1\n",
            "2\n",
            "3\n",
            "4\n",
            "5\n",
            "6\n",
            "7\n",
            "8\n",
            "9\n",
            "10\n"
          ]
        }
      ]
    },
    {
      "cell_type": "code",
      "source": [
        "total = sum(range(2,51,2))\n",
        "print (\"Sum of even numbers between 1 and 50 is:\",total)\n"
      ],
      "metadata": {
        "colab": {
          "base_uri": "https://localhost:8080/"
        },
        "id": "JbREvxGHAGBB",
        "outputId": "7ef2dad0-5d87-4b43-b44f-f05c1d2dd7da"
      },
      "execution_count": 34,
      "outputs": [
        {
          "output_type": "stream",
          "name": "stdout",
          "text": [
            "Sum of even numbers between 1 and 50 is: 650\n"
          ]
        }
      ]
    },
    {
      "cell_type": "code",
      "source": [
        "string = \"Hello\"\n",
        "reversed_string = \"\"\n",
        "i = len(string )-1\n",
        "\n",
        "while i >=0:\n",
        "  reversed_string += string[i]\n",
        "  i -= 1\n",
        "  print(\"Reversed string:\",reversed_string)"
      ],
      "metadata": {
        "colab": {
          "base_uri": "https://localhost:8080/"
        },
        "id": "Ay6mN8efCtl3",
        "outputId": "588e02bf-38bb-472d-933a-7beedc59570e"
      },
      "execution_count": 35,
      "outputs": [
        {
          "output_type": "stream",
          "name": "stdout",
          "text": [
            "Reversed string: o\n",
            "Reversed string: ol\n",
            "Reversed string: oll\n",
            "Reversed string: olle\n",
            "Reversed string: olleH\n"
          ]
        }
      ]
    },
    {
      "cell_type": "code",
      "source": [
        "num = int (input (\"Enter a number :\"))\n",
        "factorial = 1\n",
        "i = 1\n",
        "while i <= num:\n",
        "  factorial *= i\n",
        "  i += 1\n",
        "  print(f\"Factorial of {num} is {factorial}\")\n",
        ""
      ],
      "metadata": {
        "colab": {
          "base_uri": "https://localhost:8080/"
        },
        "id": "bRDjPPfqFS3T",
        "outputId": "8cc132b9-023f-4e17-86ac-414c5d797b7b"
      },
      "execution_count": 36,
      "outputs": [
        {
          "output_type": "stream",
          "name": "stdout",
          "text": [
            "Enter a number :12\n",
            "Factorial of 12 is 1\n",
            "Factorial of 12 is 2\n",
            "Factorial of 12 is 6\n",
            "Factorial of 12 is 24\n",
            "Factorial of 12 is 120\n",
            "Factorial of 12 is 720\n",
            "Factorial of 12 is 5040\n",
            "Factorial of 12 is 40320\n",
            "Factorial of 12 is 362880\n",
            "Factorial of 12 is 3628800\n",
            "Factorial of 12 is 39916800\n",
            "Factorial of 12 is 479001600\n"
          ]
        }
      ]
    }
  ]
}